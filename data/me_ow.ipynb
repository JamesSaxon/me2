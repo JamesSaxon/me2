{
 "cells": [
  {
   "cell_type": "code",
   "execution_count": 193,
   "metadata": {
    "collapsed": true
   },
   "outputs": [],
   "source": [
    "import pandas as pd\n",
    "import numpy as np\n",
    "\n",
    "%matplotlib inline"
   ]
  },
  {
   "cell_type": "markdown",
   "metadata": {},
   "source": [
    "Use \"tags\" in a modified sdf file to have somewhat more readable variable names, for example,"
   ]
  },
  {
   "cell_type": "code",
   "execution_count": 143,
   "metadata": {
    "collapsed": false
   },
   "outputs": [
    {
     "name": "stdout",
     "output_type": "stream",
     "text": [
      "R00001.00  1967  IDENTIFICATION CODE, 67                                                             R0000100      ID1967\r",
      "\r\n",
      "R00022.01  1967  MONTH OF R BIRTH, 67                                                                R0002201      MOB1967     \r",
      "\r\n",
      "R00022.03  1967  YEAR OF R BIRTH, 67                                                                 R0002203      YOB1967     \r",
      "\r\n",
      "R00023.00  1967  RACE, 67                                                                            R0002300      RACE1967      \r",
      "\r\n",
      "R00024.00  1967  MARITAL STATUS, 67                                                                  R0002400      MARSTAT1967    \r",
      "\r\n",
      "R00235.00  1967  YEAR R STOPPED ATTENDING SCHOOL FULL-TIME, 67                                       R0023500                \r",
      "\r\n",
      "R00298.00  1967  DATE R STOPPED ATTENDING SCHOOL FULL-TIME (NVR MRD, NO KIDS) 67                     R0029800                \r",
      "\r\n",
      "R00312.00  1967  DATE R STOPPED ATTENDING SCHOOL FULL-TIME (NVR MRD, KIDS) 67                        R0031200                \r",
      "\r\n",
      "R00359.00  1967  HEALTH IN COMPARISON TO OTHER WOMEN THE AGE OF R SELF-RATING, 67                    R0035900                \r",
      "\r\n",
      "R00375.00  1967  HIGHEST GRADE ATTENDED, 67                                                          R0037500      \r",
      "\r\n"
     ]
    }
   ],
   "source": [
    "! head tags"
   ]
  },
  {
   "cell_type": "code",
   "execution_count": 144,
   "metadata": {
    "collapsed": false
   },
   "outputs": [],
   "source": [
    "columns = {}\n",
    "for line in open(\"tags\"):\n",
    "    line = line.strip()\n",
    "    if not line[101:].count(\" \"): continue\n",
    "    spline = line.split()\n",
    "    k = spline[0].replace(\".\", \"\")\n",
    "    v = spline[-1]\n",
    "    columns[k] = v"
   ]
  },
  {
   "cell_type": "markdown",
   "metadata": {},
   "source": [
    "Load the data and use the tags to rename the columns."
   ]
  },
  {
   "cell_type": "code",
   "execution_count": 145,
   "metadata": {
    "collapsed": false
   },
   "outputs": [],
   "source": [
    "df = pd.read_csv(\"mw1.csv\")\n",
    "df.rename(columns = columns, inplace = True)\n",
    "# sorted(list(df.columns))"
   ]
  },
  {
   "cell_type": "markdown",
   "metadata": {},
   "source": [
    "Check for any duplicate columns."
   ]
  },
  {
   "cell_type": "code",
   "execution_count": 146,
   "metadata": {
    "collapsed": false
   },
   "outputs": [],
   "source": [
    "b = {}\n",
    "for x in list(df.columns):\n",
    "    if x in b: print(x)\n",
    "    b[x] = \"a\""
   ]
  },
  {
   "cell_type": "code",
   "execution_count": 147,
   "metadata": {
    "collapsed": false
   },
   "outputs": [],
   "source": [
    "df = df[list(columns.values())].copy(deep = True)\n",
    "df.set_index(\"ID1967\", inplace = True)"
   ]
  },
  {
   "cell_type": "code",
   "execution_count": 148,
   "metadata": {
    "collapsed": false
   },
   "outputs": [],
   "source": [
    "df[\"RACE1967_LABEL\"] = df.RACE1967.replace({2:\"Black\", 1:\"White\", 3:\"Other\"})\n",
    "\n",
    "df[\"RACE1995\"] = None\n",
    "df.loc[df.RACE1995_BLACK == 0, \"RACE1995\"] = \"OTHER\"\n",
    "df.loc[(df.filter(regex = \"RACE1995_\", axis = 1) ==1 ).any(axis = 1), \"RACE1995\"] = \"HISPANIC\"\n",
    "df.loc[df.RACE1995_BLACK == 1, \"RACE1995\"] = \"BLACK\""
   ]
  },
  {
   "cell_type": "code",
   "execution_count": 149,
   "metadata": {
    "collapsed": false
   },
   "outputs": [],
   "source": [
    "df.loc[df.MOB1967 < 0, \"MOB1967\"] = 6\n",
    "df[\"DOB1967\"] = pd.to_datetime(((df.YOB1967 + 1900)*10000 + df.MOB1967 * 100 + 15).astype(str), format='%Y%m%d', errors='coerce')\n",
    "df[\"SSAMATCH2003_DOD\"] = pd.to_datetime(((df.SSAMATCH2003_YOD)*10000 + df.SSAMATCH2003_MOD * 100 + 15).astype(str), format='%Y%m%d', errors='coerce')\n",
    "df[\"SSAMATCH2003_AGE\"] = (df.SSAMATCH2003_DOD - df.DOB1967).astype('timedelta64[D]')/365.25\n",
    "df[\"NDIMATCH2011_YOD\"] = 1900 + df.YOB1967 + df.NDIMATCH2011_AGE\n",
    "df[\"SSAMATCH2011_YOD\"] = 1900 + df.YOB1967 + df.SSAMATCH2011_AGE\n",
    "df.loc[(df.YOB1967 < 0) | (df.NDIMATCH2011_AGE < 0), \"NDIMATCH2011_YOD\"] = -4\n",
    "df.loc[(df.YOB1967 < 0) | (df.SSAMATCH2011_AGE < 0), \"SSAMATCH2011_YOD\"] = -4"
   ]
  },
  {
   "cell_type": "code",
   "execution_count": 197,
   "metadata": {
    "collapsed": true
   },
   "outputs": [],
   "source": [
    "df[\"SSAMATCH2003_MATCHED\"] = df[\"SSAMATCH2003_YOD\"] > 0\n",
    "df[\"NDIMATCH2011_MATCHED\"] = df[\"NDIMATCH2011_AGE\"] > 0\n",
    "df[\"SSAMATCH2011_MATCHED\"] = df[\"SSAMATCH2011_AGE\"] > 0"
   ]
  },
  {
   "cell_type": "code",
   "execution_count": 150,
   "metadata": {
    "collapsed": false
   },
   "outputs": [
    {
     "data": {
      "text/plain": [
       "<matplotlib.axes._subplots.AxesSubplot at 0x7fafd2dd8b70>"
      ]
     },
     "execution_count": 150,
     "metadata": {},
     "output_type": "execute_result"
    },
    {
     "data": {
      "image/png": "[encoded data removed]",
      "text/plain": [
       "<matplotlib.figure.Figure at 0x7fafd2dcbda0>"
      ]
     },
     "metadata": {},
     "output_type": "display_data"
    }
   ],
   "source": [
    "sel = (df[\"SSAMATCH2011_AGE\"] > 0) & (df[\"NDIMATCH2011_AGE\"] > 0)\n",
    "(df.loc[sel, \"SSAMATCH2011_AGE\"] - df.loc[sel, \"NDIMATCH2011_AGE\"]).hist(bins = range(-5, 6))"
   ]
  },
  {
   "cell_type": "markdown",
   "metadata": {},
   "source": [
    "### I really don't get this -- year after year, the total (5083) equals valid skip + 2 × noninterview.  Why?\n",
    "```\n",
    "R05284.00    [CV]                                           Survey Year: 1982\n",
    "  PRIMARY VARIABLE\n",
    "\n",
    "\n",
    "             REASON FOR NONINTERVIEW IN 82\n",
    "\n",
    "REASON\n",
    "\n",
    "       1       1 UNABLE TO CONTACT - REASON UNSPECIFIED\n",
    "       1       2 MOVER (GOOD ADDRESS) INTERVIEW IMPOSSIBLE:DISTANCE TOO GREAT\n",
    "       2       3 MOVER (GOOD ADDRESS) UNABLE TO INTERVIEW AFTER REPEATED\n",
    "                      ATTEMPTS\n",
    "      14       4 MOVER (NO GOOD ADDRESS)\n",
    "      10       5 NONMOVER - UNABLE TO INTERVIEW AFTER REPEATED ATTEMPTS\n",
    "       8       6 TEMPORARILY ABSENT\n",
    "       0       7 IN ARMED FORCES\n",
    "       4       8 INSTITUTIONALIZED\n",
    "    1061       9 REFUSED\n",
    "     238      10 DECEASED\n",
    "       5      11 OTHER\n",
    "     193      12 NON-INTERVIEW TWO YEARS, RESPONDENT DROPPED FROM SAMPLE\n",
    "       4      13 MOVED OUTSIDE U.S. (OTHER THAN ARMED FORCES)\n",
    "  -------\n",
    "    1541\n",
    "\n",
    "Refusal(-1)            0\n",
    "Don't Know(-2)         0\n",
    "TOTAL =========>    1541   VALID SKIP(-4)    2001     NON-INTERVIEW(-5)    1541\n",
    "```"
   ]
  },
  {
   "cell_type": "code",
   "execution_count": 151,
   "metadata": {
    "collapsed": false
   },
   "outputs": [
    {
     "name": "stdout",
     "output_type": "stream",
     "text": [
      "The total number of respondents is: 5083\n",
      "The total zero-weights equals the number of non-interviews: 1541\n",
      "By the way, the sums are just a coincidence?? 3542 5083\n",
      "But the non-interviews are set to -4 (cdb says it should be 2001) (?): 0 3542\n",
      "And one cannot separate them by requiring nonzero weight: 0\n",
      "But if I count them up, I'm not sure how to separate these.  The weights are all non-zero: 3542\n",
      "So who are these other 1541 people, and what happened to them??\n"
     ]
    }
   ],
   "source": [
    "print(\"The total number of respondents is:\", df.shape[0])\n",
    "print(\"The total zero-weights equals the number of non-interviews:\", (df.W1982 == 0).sum())\n",
    "print(\"By the way, the sums are just a coincidence??\", 1541+2001, 2*1541+2001)\n",
    "print(\"But the non-interviews are set to -4 (cdb says it should be 2001) (?):\", (df.NONINT1982 == -5).sum(), (df.NONINT1982 == -4).sum())\n",
    "print(\"And one cannot separate them by requiring nonzero weight:\", ((df.NONINT1982 == -4) & (df.W1982 == 0)).sum())\n",
    "print(\"But if I count them up, I'm not sure how to separate these.  The weights are all non-zero:\", (df.W1982 > 0).sum())\n",
    "print(\"So who are these other 1541 people, and what happened to them??\")"
   ]
  },
  {
   "cell_type": "code",
   "execution_count": 152,
   "metadata": {
    "collapsed": false
   },
   "outputs": [
    {
     "name": "stdout",
     "output_type": "stream",
     "text": [
      "      1 1\r\n",
      "    238 10\r\n",
      "      5 11\r\n",
      "    193 12\r\n",
      "      4 13\r\n",
      "      1 2\r\n",
      "      2 3\r\n",
      "     14 4\r\n",
      "   3542 -4\r\n",
      "     10 5\r\n",
      "      8 6\r\n",
      "      4 8\r\n",
      "   1061 9\r\n",
      "      1 \"R0528400\"\r\n"
     ]
    }
   ],
   "source": [
    "! # I am not crazy.\n",
    "! cat mw1.csv | cut -f113 -d, | sort | uniq -c"
   ]
  },
  {
   "cell_type": "markdown",
   "metadata": {},
   "source": [
    "So in short, is valid skip for non-interview an interview, or a different sort of skip??"
   ]
  },
  {
   "cell_type": "code",
   "execution_count": 153,
   "metadata": {
    "collapsed": false
   },
   "outputs": [
    {
     "data": {
      "text/html": [
       "<div>\n",
       "<style>\n",
       "    .dataframe thead tr:only-child th {\n",
       "        text-align: right;\n",
       "    }\n",
       "\n",
       "    .dataframe thead th {\n",
       "        text-align: left;\n",
       "    }\n",
       "\n",
       "    .dataframe tbody tr th {\n",
       "        vertical-align: top;\n",
       "    }\n",
       "</style>\n",
       "<table border=\"1\" class=\"dataframe\">\n",
       "  <thead>\n",
       "    <tr style=\"text-align: right;\">\n",
       "      <th></th>\n",
       "      <th>W1982</th>\n",
       "    </tr>\n",
       "    <tr>\n",
       "      <th>NONINT1982</th>\n",
       "      <th></th>\n",
       "    </tr>\n",
       "  </thead>\n",
       "  <tbody>\n",
       "    <tr>\n",
       "      <th>-4</th>\n",
       "      <td>3542</td>\n",
       "    </tr>\n",
       "  </tbody>\n",
       "</table>\n",
       "</div>"
      ],
      "text/plain": [
       "            W1982\n",
       "NONINT1982       \n",
       "-4           3542"
      ]
     },
     "execution_count": 153,
     "metadata": {},
     "output_type": "execute_result"
    }
   ],
   "source": [
    "df.loc[(df.W1982 >= 0) & (df.HP1982_WALKING > -5), [\"NONINT1982\", \"W1982\"]].groupby(\"NONINT1982\").count()"
   ]
  },
  {
   "cell_type": "code",
   "execution_count": 154,
   "metadata": {
    "collapsed": false
   },
   "outputs": [
    {
     "data": {
      "text/html": [
       "<div>\n",
       "<style>\n",
       "    .dataframe thead tr:only-child th {\n",
       "        text-align: right;\n",
       "    }\n",
       "\n",
       "    .dataframe thead th {\n",
       "        text-align: left;\n",
       "    }\n",
       "\n",
       "    .dataframe tbody tr th {\n",
       "        vertical-align: top;\n",
       "    }\n",
       "</style>\n",
       "<table border=\"1\" class=\"dataframe\">\n",
       "  <thead>\n",
       "    <tr style=\"text-align: right;\">\n",
       "      <th></th>\n",
       "      <th>W1982</th>\n",
       "    </tr>\n",
       "    <tr>\n",
       "      <th>NONINT1982</th>\n",
       "      <th></th>\n",
       "    </tr>\n",
       "  </thead>\n",
       "  <tbody>\n",
       "    <tr>\n",
       "      <th>-4</th>\n",
       "      <td>3542</td>\n",
       "    </tr>\n",
       "  </tbody>\n",
       "</table>\n",
       "</div>"
      ],
      "text/plain": [
       "            W1982\n",
       "NONINT1982       \n",
       "-4           3542"
      ]
     },
     "execution_count": 154,
     "metadata": {},
     "output_type": "execute_result"
    }
   ],
   "source": [
    "df.loc[(df.W1982 >= 0) & (df.HP1982_WALKING > -5), [\"NONINT1982\", \"W1982\"]].groupby(\"NONINT1982\").count()"
   ]
  },
  {
   "cell_type": "markdown",
   "metadata": {},
   "source": [
    "Let's look for three cases:\n",
    "1. interview after a death date (I > D),\n",
    "2. death after non-interview due to death (D>NI), and\n",
    "3. no death record after non-interview due to death (NR, fraction)."
   ]
  },
  {
   "cell_type": "code",
   "execution_count": 155,
   "metadata": {
    "collapsed": false,
    "scrolled": true
   },
   "outputs": [],
   "source": [
    "pd.options.display.max_columns = 1000\n",
    "nonint_years = sorted([int(y[6:]) for y in list(df.filter(regex = \"NONINT[0-9]{4}$\").columns)])\n",
    "for y in nonint_years:\n",
    "    df[\"NONINT{}_ALIVE\".format(y)]    = df[\"NONINT{}\".format(y)] == -4\n",
    "    df[\"NONINT{}_DECEASED\".format(y)] = df[\"NONINT{}\".format(y)] == 10"
   ]
  },
  {
   "cell_type": "code",
   "execution_count": 174,
   "metadata": {
    "collapsed": false
   },
   "outputs": [
    {
     "data": {
      "text/html": [
       "<div>\n",
       "<style>\n",
       "    .dataframe thead tr:only-child th {\n",
       "        text-align: right;\n",
       "    }\n",
       "\n",
       "    .dataframe thead th {\n",
       "        text-align: left;\n",
       "    }\n",
       "\n",
       "    .dataframe tbody tr th {\n",
       "        vertical-align: top;\n",
       "    }\n",
       "</style>\n",
       "<table border=\"1\" class=\"dataframe\">\n",
       "  <thead>\n",
       "    <tr style=\"text-align: right;\">\n",
       "      <th></th>\n",
       "      <th>NDI11 D&gt;NI</th>\n",
       "      <th>NDI11 I&gt;D</th>\n",
       "      <th>NDI11 NR</th>\n",
       "      <th>SSA03 D&gt;NI</th>\n",
       "      <th>SSA03 I&gt;D</th>\n",
       "      <th>SSA03 NR</th>\n",
       "      <th>SSA11 D&gt;NI</th>\n",
       "      <th>SSA11 I&gt;D</th>\n",
       "      <th>SSA11 NR</th>\n",
       "    </tr>\n",
       "  </thead>\n",
       "  <tbody>\n",
       "    <tr>\n",
       "      <th>1968</th>\n",
       "      <td>2</td>\n",
       "      <td>0</td>\n",
       "      <td>0.727273</td>\n",
       "      <td>0</td>\n",
       "      <td>0</td>\n",
       "      <td>0.727273</td>\n",
       "      <td>1</td>\n",
       "      <td>1</td>\n",
       "      <td>0.681818</td>\n",
       "    </tr>\n",
       "    <tr>\n",
       "      <th>1969</th>\n",
       "      <td>2</td>\n",
       "      <td>0</td>\n",
       "      <td>0.742857</td>\n",
       "      <td>0</td>\n",
       "      <td>0</td>\n",
       "      <td>0.742857</td>\n",
       "      <td>1</td>\n",
       "      <td>1</td>\n",
       "      <td>0.714286</td>\n",
       "    </tr>\n",
       "    <tr>\n",
       "      <th>1971</th>\n",
       "      <td>3</td>\n",
       "      <td>0</td>\n",
       "      <td>0.716667</td>\n",
       "      <td>2</td>\n",
       "      <td>0</td>\n",
       "      <td>0.716667</td>\n",
       "      <td>3</td>\n",
       "      <td>1</td>\n",
       "      <td>0.700000</td>\n",
       "    </tr>\n",
       "    <tr>\n",
       "      <th>1972</th>\n",
       "      <td>3</td>\n",
       "      <td>0</td>\n",
       "      <td>0.722222</td>\n",
       "      <td>2</td>\n",
       "      <td>0</td>\n",
       "      <td>0.708333</td>\n",
       "      <td>3</td>\n",
       "      <td>1</td>\n",
       "      <td>0.694444</td>\n",
       "    </tr>\n",
       "    <tr>\n",
       "      <th>1974</th>\n",
       "      <td>4</td>\n",
       "      <td>0</td>\n",
       "      <td>0.603960</td>\n",
       "      <td>3</td>\n",
       "      <td>0</td>\n",
       "      <td>0.594059</td>\n",
       "      <td>4</td>\n",
       "      <td>1</td>\n",
       "      <td>0.623762</td>\n",
       "    </tr>\n",
       "    <tr>\n",
       "      <th>1976</th>\n",
       "      <td>5</td>\n",
       "      <td>0</td>\n",
       "      <td>0.564885</td>\n",
       "      <td>3</td>\n",
       "      <td>0</td>\n",
       "      <td>0.557252</td>\n",
       "      <td>4</td>\n",
       "      <td>1</td>\n",
       "      <td>0.603053</td>\n",
       "    </tr>\n",
       "    <tr>\n",
       "      <th>1977</th>\n",
       "      <td>6</td>\n",
       "      <td>0</td>\n",
       "      <td>0.550000</td>\n",
       "      <td>4</td>\n",
       "      <td>0</td>\n",
       "      <td>0.542857</td>\n",
       "      <td>5</td>\n",
       "      <td>1</td>\n",
       "      <td>0.585714</td>\n",
       "    </tr>\n",
       "    <tr>\n",
       "      <th>1979</th>\n",
       "      <td>6</td>\n",
       "      <td>0</td>\n",
       "      <td>0.488636</td>\n",
       "      <td>4</td>\n",
       "      <td>0</td>\n",
       "      <td>0.482955</td>\n",
       "      <td>6</td>\n",
       "      <td>1</td>\n",
       "      <td>0.522727</td>\n",
       "    </tr>\n",
       "    <tr>\n",
       "      <th>1981</th>\n",
       "      <td>9</td>\n",
       "      <td>0</td>\n",
       "      <td>0.412037</td>\n",
       "      <td>4</td>\n",
       "      <td>0</td>\n",
       "      <td>0.439815</td>\n",
       "      <td>7</td>\n",
       "      <td>1</td>\n",
       "      <td>0.472222</td>\n",
       "    </tr>\n",
       "    <tr>\n",
       "      <th>1982</th>\n",
       "      <td>9</td>\n",
       "      <td>1</td>\n",
       "      <td>0.378151</td>\n",
       "      <td>4</td>\n",
       "      <td>0</td>\n",
       "      <td>0.420168</td>\n",
       "      <td>7</td>\n",
       "      <td>1</td>\n",
       "      <td>0.457983</td>\n",
       "    </tr>\n",
       "    <tr>\n",
       "      <th>1984</th>\n",
       "      <td>8</td>\n",
       "      <td>2</td>\n",
       "      <td>0.336842</td>\n",
       "      <td>3</td>\n",
       "      <td>0</td>\n",
       "      <td>0.417544</td>\n",
       "      <td>6</td>\n",
       "      <td>1</td>\n",
       "      <td>0.449123</td>\n",
       "    </tr>\n",
       "    <tr>\n",
       "      <th>1986</th>\n",
       "      <td>8</td>\n",
       "      <td>3</td>\n",
       "      <td>0.287390</td>\n",
       "      <td>4</td>\n",
       "      <td>0</td>\n",
       "      <td>0.375367</td>\n",
       "      <td>7</td>\n",
       "      <td>1</td>\n",
       "      <td>0.419355</td>\n",
       "    </tr>\n",
       "    <tr>\n",
       "      <th>1992</th>\n",
       "      <td>8</td>\n",
       "      <td>8</td>\n",
       "      <td>0.203297</td>\n",
       "      <td>3</td>\n",
       "      <td>0</td>\n",
       "      <td>0.287546</td>\n",
       "      <td>8</td>\n",
       "      <td>1</td>\n",
       "      <td>0.366300</td>\n",
       "    </tr>\n",
       "  </tbody>\n",
       "</table>\n",
       "</div>"
      ],
      "text/plain": [
       "      NDI11 D>NI  NDI11 I>D  NDI11 NR  SSA03 D>NI  SSA03 I>D  SSA03 NR  \\\n",
       "1968           2          0  0.727273           0          0  0.727273   \n",
       "1969           2          0  0.742857           0          0  0.742857   \n",
       "1971           3          0  0.716667           2          0  0.716667   \n",
       "1972           3          0  0.722222           2          0  0.708333   \n",
       "1974           4          0  0.603960           3          0  0.594059   \n",
       "1976           5          0  0.564885           3          0  0.557252   \n",
       "1977           6          0  0.550000           4          0  0.542857   \n",
       "1979           6          0  0.488636           4          0  0.482955   \n",
       "1981           9          0  0.412037           4          0  0.439815   \n",
       "1982           9          1  0.378151           4          0  0.420168   \n",
       "1984           8          2  0.336842           3          0  0.417544   \n",
       "1986           8          3  0.287390           4          0  0.375367   \n",
       "1992           8          8  0.203297           3          0  0.287546   \n",
       "\n",
       "      SSA11 D>NI  SSA11 I>D  SSA11 NR  \n",
       "1968           1          1  0.681818  \n",
       "1969           1          1  0.714286  \n",
       "1971           3          1  0.700000  \n",
       "1972           3          1  0.694444  \n",
       "1974           4          1  0.623762  \n",
       "1976           4          1  0.603053  \n",
       "1977           5          1  0.585714  \n",
       "1979           6          1  0.522727  \n",
       "1981           7          1  0.472222  \n",
       "1982           7          1  0.457983  \n",
       "1984           6          1  0.449123  \n",
       "1986           7          1  0.419355  \n",
       "1992           8          1  0.366300  "
      ]
     },
     "execution_count": 174,
     "metadata": {},
     "output_type": "execute_result"
    }
   ],
   "source": [
    "ssa03A, ndi11A, ssa11A = {}, {}, {}\n",
    "ssa03D, ndi11D, ssa11D = {}, {}, {} \n",
    "ssa03NR, ndi11NR, ssa11NR = {}, {}, {} \n",
    "for y in nonint_years:\n",
    "    va = \"NONINT\" + str(y) + \"_ALIVE\"\n",
    "    vd = \"NONINT\" + str(y) + \"_DECEASED\"\n",
    "    ssa03A[y]  = (df[va] & (df.SSAMATCH2003_YOD > 0) & (df.SSAMATCH2003_YOD < y-2)).sum()\n",
    "    ndi11A[y]  = (df[va] & (df.NDIMATCH2011_YOD > 0) & (df.NDIMATCH2011_YOD < y-2)).sum()\n",
    "    ssa11A[y]  = (df[va] & (df.SSAMATCH2011_YOD > 0) & (df.SSAMATCH2011_YOD < y-2)).sum()\n",
    "    ssa03D[y]  = (df[vd] & (df.SSAMATCH2003_YOD > 0) & (df.SSAMATCH2003_YOD > y+2)).sum()\n",
    "    ndi11D[y]  = (df[vd] & (df.NDIMATCH2011_YOD > 0) & (df.NDIMATCH2011_YOD > y+2)).sum()\n",
    "    ssa11D[y]  = (df[vd] & (df.SSAMATCH2011_YOD > 0) & (df.SSAMATCH2011_YOD > y+2)).sum()\n",
    "\n",
    "    ssa03NR[y] = (df[vd] & (df.SSAMATCH2003_YOD < 0)).sum() / df[vd].sum()\n",
    "    ndi11NR[y] = (df[vd] & (df.NDIMATCH2011_AGE < 0)).sum() / df[vd].sum()\n",
    "    ssa11NR[y] = (df[vd] & (df.SSAMATCH2011_AGE < 0)).sum() / df[vd].sum()\n",
    "\n",
    "pd.DataFrame({\"SSA03 I>D\"  : ssa03A,  \"NDI11 I>D\"  : ndi11A,  \"SSA11 I>D\"  : ssa11A,\n",
    "              \"SSA03 D>NI\" : ssa03D,  \"NDI11 D>NI\" : ndi11D,  \"SSA11 D>NI\" : ssa11D,\n",
    "              \"SSA03 NR\"   : ssa03NR, \"NDI11 NR\"   : ndi11NR, \"SSA11 NR\"   : ssa11NR})"
   ]
  },
  {
   "cell_type": "code",
   "execution_count": 17,
   "metadata": {
    "collapsed": false
   },
   "outputs": [
    {
     "data": {
      "text/plain": [
       "RACE1967_LABEL\n",
       "Black    Axes(0.125,0.125;0.775x0.755)\n",
       "Other    Axes(0.125,0.125;0.775x0.755)\n",
       "White    Axes(0.125,0.125;0.775x0.755)\n",
       "Name: NDIMATCH2011_AGE, dtype: object"
      ]
     },
     "execution_count": 17,
     "metadata": {},
     "output_type": "execute_result"
    },
    {
     "data": {
      "image/png": "[encoded data removed]",
      "text/plain": [
       "<matplotlib.figure.Figure at 0x7fafd3807978>"
      ]
     },
     "metadata": {},
     "output_type": "display_data"
    }
   ],
   "source": [
    "df[df.NDIMATCH2011_AGE > 30].groupby(\"RACE1967_LABEL\").NDIMATCH2011_AGE.plot(kind = \"kde\", legend = True)"
   ]
  },
  {
   "cell_type": "code",
   "execution_count": 18,
   "metadata": {
    "collapsed": false
   },
   "outputs": [
    {
     "data": {
      "text/plain": [
       "RACE1995\n",
       "BLACK       Axes(0.125,0.125;0.775x0.755)\n",
       "HISPANIC    Axes(0.125,0.125;0.775x0.755)\n",
       "OTHER       Axes(0.125,0.125;0.775x0.755)\n",
       "Name: NDIMATCH2011_AGE, dtype: object"
      ]
     },
     "execution_count": 18,
     "metadata": {},
     "output_type": "execute_result"
    },
    {
     "data": {
      "image/png": "[encoded data removed]",
      "text/plain": [
       "<matplotlib.figure.Figure at 0x7fafd3738f60>"
      ]
     },
     "metadata": {},
     "output_type": "display_data"
    }
   ],
   "source": [
    "df[~df.RACE1995.isnull() & (df.NDIMATCH2011_AGE > 0)].groupby(\"RACE1995\").NDIMATCH2011_AGE.plot(kind = \"kde\", legend = True)"
   ]
  },
  {
   "cell_type": "code",
   "execution_count": 20,
   "metadata": {
    "collapsed": false
   },
   "outputs": [],
   "source": [
    "for y in [1971, 1972, 1984, 1986]:\n",
    "    v = \"HL\" + str(y)NDIMATCH2011_AGE\n",
    "    df[v] = \"\"\n",
    "    df.loc[(df.filter(regex = \"^{}_.*\".format(v)) > -5).any(axis = 1), v] = \"Not Limited\"\n",
    "    df.loc[(df.filter(regex = \"^{}_.*\".format(v)) >  0).any(axis = 1), v] = \"Limited\""
   ]
  },
  {
   "cell_type": "code",
   "execution_count": 21,
   "metadata": {
    "collapsed": false
   },
   "outputs": [
    {
     "data": {
      "text/plain": [
       "HL1971\n",
       "Limited        Axes(0.125,0.125;0.775x0.755)\n",
       "Not Limited    Axes(0.125,0.125;0.775x0.755)\n",
       "Name: NDIMATCH2011_AGE, dtype: object"
      ]
     },
     "execution_count": 21,
     "metadata": {},
     "output_type": "execute_result"
    },
    {
     "data": {
      "image/png": "[encoded data removed]",
      "text/plain": [
       "<matplotlib.figure.Figure at 0x7fafd37d9128>"
      ]
     },
     "metadata": {},
     "output_type": "display_data"
    }
   ],
   "source": [
    "df[df.HL1971.astype(bool) & (df.NDIMATCH2011_AGE > 30)].groupby(\"HL1971\").NDIMATCH2011_AGE.plot(kind = \"kde\", legend = True)"
   ]
  },
  {
   "cell_type": "code",
   "execution_count": 22,
   "metadata": {
    "collapsed": false
   },
   "outputs": [
    {
     "data": {
      "text/plain": [
       "HL1972\n",
       "Limited        Axes(0.125,0.125;0.775x0.755)\n",
       "Not Limited    Axes(0.125,0.125;0.775x0.755)\n",
       "Name: NDIMATCH2011_AGE, dtype: object"
      ]
     },
     "execution_count": 22,
     "metadata": {},
     "output_type": "execute_result"
    },
    {
     "data": {
      "image/png": "[encoded data removed]",
      "text/plain": [
       "<matplotlib.figure.Figure at 0x7fafd36317b8>"
      ]
     },
     "metadata": {},
     "output_type": "display_data"
    }
   ],
   "source": [
    "df[df.HL1972.astype(bool) & (df.NDIMATCH2011_AGE > 30)].groupby(\"HL1972\").NDIMATCH2011_AGE.plot(kind = \"kde\", legend = True)"
   ]
  },
  {
   "cell_type": "code",
   "execution_count": 23,
   "metadata": {
    "collapsed": false
   },
   "outputs": [
    {
     "data": {
      "text/plain": [
       "HL1984\n",
       "Limited        Axes(0.125,0.125;0.775x0.755)\n",
       "Not Limited    Axes(0.125,0.125;0.775x0.755)\n",
       "Name: NDIMATCH2011_AGE, dtype: object"
      ]
     },
     "execution_count": 23,
     "metadata": {},
     "output_type": "execute_result"
    },
    {
     "data": {
      "image/png": "[encoded data removed]",
      "text/plain": [
       "<matplotlib.figure.Figure at 0x7fafd35b0a20>"
      ]
     },
     "metadata": {},
     "output_type": "display_data"
    }
   ],
   "source": [
    "df[df.HL1984.astype(bool) & (df.NDIMATCH2011_AGE > 30)].groupby(\"HL1984\").NDIMATCH2011_AGE.plot(kind = \"kde\", legend = True)"
   ]
  },
  {
   "cell_type": "code",
   "execution_count": 24,
   "metadata": {
    "collapsed": false
   },
   "outputs": [
    {
     "data": {
      "text/plain": [
       "HL1986\n",
       "Limited        Axes(0.125,0.125;0.775x0.755)\n",
       "Not Limited    Axes(0.125,0.125;0.775x0.755)\n",
       "Name: NDIMATCH2011_AGE, dtype: object"
      ]
     },
     "execution_count": 24,
     "metadata": {},
     "output_type": "execute_result"
    },
    {
     "data": {
      "image/png": "[encoded data removed]",
      "text/plain": [
       "<matplotlib.figure.Figure at 0x7fafd35a2128>"
      ]
     },
     "metadata": {},
     "output_type": "display_data"
    }
   ],
   "source": [
    "df[df.HL1986.astype(bool) & (df.NDIMATCH2011_AGE > 30)].groupby(\"HL1986\").NDIMATCH2011_AGE.plot(kind = \"kde\", legend = True)"
   ]
  },
  {
   "cell_type": "code",
   "execution_count": 32,
   "metadata": {
    "collapsed": false
   },
   "outputs": [
    {
     "data": {
      "text/plain": [
       "MARSTAT1967\n",
       "No Spouse Present    Axes(0.125,0.125;0.775x0.755)\n",
       "Spouse Present       Axes(0.125,0.125;0.775x0.755)\n",
       "Name: NDIMATCH2011_AGE, dtype: object"
      ]
     },
     "execution_count": 32,
     "metadata": {},
     "output_type": "execute_result"
    },
    {
     "data": {
      "image/png": "[encoded data removed]",
      "text/plain": [
       "<matplotlib.figure.Figure at 0x7fafd33373c8>"
      ]
     },
     "metadata": {},
     "output_type": "display_data"
    }
   ],
   "source": [
    "df[(df.NDIMATCH2011_AGE > 0)].replace({\"MARSTAT1967\" : {1 : \"Spouse Present\",\n",
    "                                                        2 : \"No Spouse Present\",\n",
    "                                                        3 : \"No Spouse Present\",\n",
    "                                                        4 : \"No Spouse Present\",\n",
    "                                                        5 : \"No Spouse Present\",\n",
    "                                                        6 : \"No Spouse Present\"}})\\\n",
    "                             .groupby(\"MARSTAT1967\")\\\n",
    "                             .NDIMATCH2011_AGE.plot(kind = \"kde\", legend = True)"
   ]
  },
  {
   "cell_type": "markdown",
   "metadata": {},
   "source": [
    "Now let's check match rates along racial & ethnic lines."
   ]
  },
  {
   "cell_type": "code",
   "execution_count": 196,
   "metadata": {
    "collapsed": false
   },
   "outputs": [
    {
     "data": {
      "text/html": [
       "<div>\n",
       "<style>\n",
       "    .dataframe thead tr:only-child th {\n",
       "        text-align: right;\n",
       "    }\n",
       "\n",
       "    .dataframe thead th {\n",
       "        text-align: left;\n",
       "    }\n",
       "\n",
       "    .dataframe tbody tr th {\n",
       "        vertical-align: top;\n",
       "    }\n",
       "</style>\n",
       "<table border=\"1\" class=\"dataframe\">\n",
       "  <thead>\n",
       "    <tr style=\"text-align: right;\">\n",
       "      <th>RACE1967_LABEL</th>\n",
       "      <th>Black</th>\n",
       "      <th>Other</th>\n",
       "      <th>White</th>\n",
       "    </tr>\n",
       "  </thead>\n",
       "  <tbody>\n",
       "    <tr>\n",
       "      <th>NDIMATCH2011_MATCHED</th>\n",
       "      <td>0.469784</td>\n",
       "      <td>0.356322</td>\n",
       "      <td>0.370771</td>\n",
       "    </tr>\n",
       "    <tr>\n",
       "      <th>SSAMATCH2003_MATCHED</th>\n",
       "      <td>0.290647</td>\n",
       "      <td>0.183908</td>\n",
       "      <td>0.207709</td>\n",
       "    </tr>\n",
       "    <tr>\n",
       "      <th>SSAMATCH2011_MATCHED</th>\n",
       "      <td>0.434532</td>\n",
       "      <td>0.275862</td>\n",
       "      <td>0.364670</td>\n",
       "    </tr>\n",
       "  </tbody>\n",
       "</table>\n",
       "</div>"
      ],
      "text/plain": [
       "RACE1967_LABEL           Black     Other     White\n",
       "NDIMATCH2011_MATCHED  0.469784  0.356322  0.370771\n",
       "SSAMATCH2003_MATCHED  0.290647  0.183908  0.207709\n",
       "SSAMATCH2011_MATCHED  0.434532  0.275862  0.364670"
      ]
     },
     "execution_count": 196,
     "metadata": {},
     "output_type": "execute_result"
    }
   ],
   "source": [
    "pd.pivot_table(df[[\"RACE1967_LABEL\", \"SSAMATCH2003_MATCHED\", \"NDIMATCH2011_MATCHED\", \"SSAMATCH2011_MATCHED\"]], \n",
    "               columns = [\"RACE1967_LABEL\"], aggfunc = np.mean)"
   ]
  },
  {
   "cell_type": "code",
   "execution_count": null,
   "metadata": {
    "collapsed": true
   },
   "outputs": [],
   "source": []
  }
 ],
 "metadata": {
  "anaconda-cloud": {},
  "kernelspec": {
   "display_name": "Python [conda root]",
   "language": "python",
   "name": "conda-root-py"
  },
  "language_info": {
   "codemirror_mode": {
    "name": "ipython",
    "version": 3
   },
   "file_extension": ".py",
   "mimetype": "text/x-python",
   "name": "python",
   "nbconvert_exporter": "python",
   "pygments_lexer": "ipython3",
   "version": "3.5.2"
  }
 },
 "nbformat": 4,
 "nbformat_minor": 1
}
